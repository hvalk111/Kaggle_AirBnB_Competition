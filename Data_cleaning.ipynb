{
 "cells": [
  {
   "cell_type": "markdown",
   "metadata": {},
   "source": [
    "# Data Cleaning"
   ]
  },
  {
   "cell_type": "code",
   "execution_count": 2,
   "metadata": {},
   "outputs": [],
   "source": [
    "import pandas as pd\n",
    "from datetime import datetime\n",
    "import numpy as np"
   ]
  },
  {
   "cell_type": "code",
   "execution_count": 4,
   "metadata": {},
   "outputs": [],
   "source": [
    "train = pd.read_csv('./datasets/train_users_2.csv')\n",
    "test = pd.read_csv('./datasets/test_users.csv')"
   ]
  },
  {
   "cell_type": "code",
   "execution_count": 6,
   "metadata": {},
   "outputs": [
    {
     "data": {
      "text/plain": [
       "(62096, 15)"
      ]
     },
     "execution_count": 6,
     "metadata": {},
     "output_type": "execute_result"
    }
   ],
   "source": [
    "test.shape"
   ]
  },
  {
   "cell_type": "markdown",
   "metadata": {},
   "source": [
    "#### Date account created - to datetime object"
   ]
  },
  {
   "cell_type": "code",
   "execution_count": 234,
   "metadata": {},
   "outputs": [],
   "source": [
    "train['date_account_created'] = pd.to_datetime(train['date_account_created'])\n",
    "train['date_first_booking'] = pd.to_datetime(train['date_first_booking'])\n",
    "\n",
    "test['date_account_created'] = pd.to_datetime(test['date_account_created'])\n",
    "test['date_first_booking'] = pd.to_datetime(test['date_first_booking'])"
   ]
  },
  {
   "cell_type": "code",
   "execution_count": 235,
   "metadata": {},
   "outputs": [
    {
     "name": "stdout",
     "output_type": "stream",
     "text": [
      "2013-07-20 08:46:06.389037568\n",
      "2013-05-21 09:02:26.254550784\n"
     ]
    }
   ],
   "source": [
    "print(train[train['date_first_booking'].isna()]['date_account_created'].mean())\n",
    "print(train[train['date_first_booking'].notna()]['date_account_created'].mean())"
   ]
  },
  {
   "cell_type": "markdown",
   "metadata": {},
   "source": [
    "#### Drop rows where first booking occurs before account creation"
   ]
  },
  {
   "cell_type": "code",
   "execution_count": 236,
   "metadata": {},
   "outputs": [],
   "source": [
    "train.drop(train[train['date_first_booking'] < train['date_account_created']].index, inplace=True)\n",
    "\n",
    "test.drop(test[test['date_first_booking'] < test['date_account_created']].index, inplace=True)\n"
   ]
  },
  {
   "cell_type": "markdown",
   "metadata": {},
   "source": [
    "#### Date first booking to boolean"
   ]
  },
  {
   "cell_type": "code",
   "execution_count": 237,
   "metadata": {},
   "outputs": [],
   "source": [
    "train['date_first_booking'].fillna(0, inplace=True)\n",
    "test['date_first_booking'].fillna(0, inplace=True)"
   ]
  },
  {
   "cell_type": "code",
   "execution_count": 238,
   "metadata": {},
   "outputs": [],
   "source": [
    "train['date_first_booking'] = train['date_first_booking'].map(lambda x: 0 if x==0 else 1);\n",
    "test['date_first_booking'] = test['date_first_booking'].map(lambda x: 0 if x==0 else 1);\n"
   ]
  },
  {
   "cell_type": "markdown",
   "metadata": {},
   "source": [
    "#### Timestamp first active to datetime object"
   ]
  },
  {
   "cell_type": "code",
   "execution_count": 239,
   "metadata": {},
   "outputs": [],
   "source": [
    "train['timestamp_first_active'] = train['timestamp_first_active'].astype(str).map(lambda x: datetime.strptime(x, '%Y%m%d%H%M%S'))\n",
    "test['timestamp_first_active'] = test['timestamp_first_active'].astype(str).map(lambda x: datetime.strptime(x, '%Y%m%d%H%M%S'))\n"
   ]
  },
  {
   "cell_type": "code",
   "execution_count": 240,
   "metadata": {},
   "outputs": [],
   "source": [
    "np.set_printoptions(precision=None, suppress=True)"
   ]
  },
  {
   "cell_type": "code",
   "execution_count": 241,
   "metadata": {},
   "outputs": [],
   "source": [
    "#getting the true age for users who entered their birth year\n",
    "def clean_age(cell):\n",
    "    if cell > 1000:\n",
    "        return 2014 - cell\n",
    "    else:\n",
    "        return cell\n",
    "train['age'] = train['age'].map(clean_age)\n",
    "test['age'] = test['age'].map(clean_age)\n",
    "#imputing mean age for missing ages\n",
    "mean_age = train[(train['age'] <= 100) & (train['age'] >= 18)]['age'].mean()\n",
    "train['age'].fillna(mean_age, inplace=True)\n",
    "test['age'].fillna(mean_age, inplace=True)\n",
    "#dropping rows where age is less than 16\n",
    "train = train[train['age'] >= 16].copy()\n",
    "#imputing mean age for test data where age is < 16\n",
    "def less_than_16(cell):\n",
    "    if cell <=16:\n",
    "        return mean_age\n",
    "    else: \n",
    "        return cell\n",
    "test['age'] = test['age'].map(less_than_16)\n",
    "#dropping ages that are greater than 100\n",
    "train = train[train['age'] <= 100].copy()\n",
    "#imputing test ages with mean age\n",
    "def greater_than_100(cell):\n",
    "    if cell >=100:\n",
    "        return mean_age\n",
    "    else: \n",
    "        return cell\n",
    "test['age'] = test['age'].map(greater_than_100)"
   ]
  },
  {
   "cell_type": "code",
   "execution_count": 242,
   "metadata": {},
   "outputs": [
    {
     "data": {
      "text/html": [
       "<div>\n",
       "<style scoped>\n",
       "    .dataframe tbody tr th:only-of-type {\n",
       "        vertical-align: middle;\n",
       "    }\n",
       "\n",
       "    .dataframe tbody tr th {\n",
       "        vertical-align: top;\n",
       "    }\n",
       "\n",
       "    .dataframe thead th {\n",
       "        text-align: right;\n",
       "    }\n",
       "</style>\n",
       "<table border=\"1\" class=\"dataframe\">\n",
       "  <thead>\n",
       "    <tr style=\"text-align: right;\">\n",
       "      <th></th>\n",
       "      <th>user_id</th>\n",
       "      <th>action</th>\n",
       "      <th>action_type</th>\n",
       "      <th>action_detail</th>\n",
       "      <th>device_type</th>\n",
       "      <th>secs_elapsed</th>\n",
       "    </tr>\n",
       "  </thead>\n",
       "  <tbody>\n",
       "    <tr>\n",
       "      <th>0</th>\n",
       "      <td>d1mm9tcy42</td>\n",
       "      <td>lookup</td>\n",
       "      <td>NaN</td>\n",
       "      <td>NaN</td>\n",
       "      <td>Windows Desktop</td>\n",
       "      <td>319.0</td>\n",
       "    </tr>\n",
       "    <tr>\n",
       "      <th>1</th>\n",
       "      <td>d1mm9tcy42</td>\n",
       "      <td>search_results</td>\n",
       "      <td>click</td>\n",
       "      <td>view_search_results</td>\n",
       "      <td>Windows Desktop</td>\n",
       "      <td>67753.0</td>\n",
       "    </tr>\n",
       "    <tr>\n",
       "      <th>2</th>\n",
       "      <td>d1mm9tcy42</td>\n",
       "      <td>lookup</td>\n",
       "      <td>NaN</td>\n",
       "      <td>NaN</td>\n",
       "      <td>Windows Desktop</td>\n",
       "      <td>301.0</td>\n",
       "    </tr>\n",
       "    <tr>\n",
       "      <th>3</th>\n",
       "      <td>d1mm9tcy42</td>\n",
       "      <td>search_results</td>\n",
       "      <td>click</td>\n",
       "      <td>view_search_results</td>\n",
       "      <td>Windows Desktop</td>\n",
       "      <td>22141.0</td>\n",
       "    </tr>\n",
       "    <tr>\n",
       "      <th>4</th>\n",
       "      <td>d1mm9tcy42</td>\n",
       "      <td>lookup</td>\n",
       "      <td>NaN</td>\n",
       "      <td>NaN</td>\n",
       "      <td>Windows Desktop</td>\n",
       "      <td>435.0</td>\n",
       "    </tr>\n",
       "  </tbody>\n",
       "</table>\n",
       "</div>"
      ],
      "text/plain": [
       "      user_id          action action_type        action_detail  \\\n",
       "0  d1mm9tcy42          lookup         NaN                  NaN   \n",
       "1  d1mm9tcy42  search_results       click  view_search_results   \n",
       "2  d1mm9tcy42          lookup         NaN                  NaN   \n",
       "3  d1mm9tcy42  search_results       click  view_search_results   \n",
       "4  d1mm9tcy42          lookup         NaN                  NaN   \n",
       "\n",
       "       device_type  secs_elapsed  \n",
       "0  Windows Desktop         319.0  \n",
       "1  Windows Desktop       67753.0  \n",
       "2  Windows Desktop         301.0  \n",
       "3  Windows Desktop       22141.0  \n",
       "4  Windows Desktop         435.0  "
      ]
     },
     "execution_count": 242,
     "metadata": {},
     "output_type": "execute_result"
    }
   ],
   "source": [
    "sessions_df = pd.read_csv('./sessions.csv')\n",
    "sessions_df.head()"
   ]
  },
  {
   "cell_type": "code",
   "execution_count": 243,
   "metadata": {},
   "outputs": [
    {
     "data": {
      "text/plain": [
       "user_id\n",
       "00023iyk9l     867896.0\n",
       "0010k6l0om     586543.0\n",
       "001wyh0pz8     282965.0\n",
       "0028jgx1x1     297010.0\n",
       "002qnbzfs5    6487080.0\n",
       "Name: secs_elapsed, dtype: float64"
      ]
     },
     "execution_count": 243,
     "metadata": {},
     "output_type": "execute_result"
    }
   ],
   "source": [
    "time_spent = sessions_df.groupby('user_id')['secs_elapsed'].sum()\n",
    "time_spent.head()"
   ]
  },
  {
   "cell_type": "code",
   "execution_count": 244,
   "metadata": {},
   "outputs": [],
   "source": [
    "train = train.merge(time_spent, how='left', left_on='id', right_on=time_spent.index)\n",
    "test = test.merge(time_spent, how='left', left_on='id', right_on=time_spent.index)\n"
   ]
  },
  {
   "cell_type": "code",
   "execution_count": 245,
   "metadata": {},
   "outputs": [],
   "source": [
    "train['lang_dist'] = train['language'].map({'de': 72.61, 'en': 0.0, 'fr': 92.06, 'it': 89.4, 'nl': 63.22, 'pt': 95.45, 'es': 92.25})\n",
    "test['lang_dist'] = test['language'].map({'de': 72.61, 'en': 0.0, 'fr': 92.06, 'it': 89.4, 'nl': 63.22, 'pt': 95.45, 'es': 92.25})\n"
   ]
  },
  {
   "cell_type": "code",
   "execution_count": 246,
   "metadata": {},
   "outputs": [],
   "source": [
    "train['lang_dist'].fillna(0, inplace=True)\n",
    "test['lang_dist'].fillna(0, inplace=True)\n"
   ]
  },
  {
   "cell_type": "code",
   "execution_count": 247,
   "metadata": {},
   "outputs": [],
   "source": [
    "mean_secs_elapsed = train[train['secs_elapsed'].notnull()]['secs_elapsed'].mean()\n",
    "train['secs_elapsed'].fillna(mean_secs_elapsed, inplace=True)\n",
    "test['secs_elapsed'].fillna(mean_secs_elapsed, inplace=True)\n"
   ]
  },
  {
   "cell_type": "code",
   "execution_count": 253,
   "metadata": {},
   "outputs": [],
   "source": [
    "train['first_affiliate_tracked'].fillna('None', inplace=True)\n",
    "test['first_affiliate_tracked'].fillna('None', inplace=True)"
   ]
  },
  {
   "cell_type": "code",
   "execution_count": 254,
   "metadata": {
    "scrolled": true
   },
   "outputs": [
    {
     "name": "stdout",
     "output_type": "stream",
     "text": [
      "<class 'pandas.core.frame.DataFrame'>\n",
      "Int64Index: 211041 entries, 0 to 211040\n",
      "Data columns (total 18 columns):\n",
      "id                         211041 non-null object\n",
      "date_account_created       211041 non-null datetime64[ns]\n",
      "timestamp_first_active     211041 non-null datetime64[ns]\n",
      "date_first_booking         211041 non-null int64\n",
      "gender                     211041 non-null object\n",
      "age                        211041 non-null float64\n",
      "signup_method              211041 non-null object\n",
      "signup_flow                211041 non-null int64\n",
      "language                   211041 non-null object\n",
      "affiliate_channel          211041 non-null object\n",
      "affiliate_provider         211041 non-null object\n",
      "first_affiliate_tracked    211041 non-null object\n",
      "signup_app                 211041 non-null object\n",
      "first_device_type          211041 non-null object\n",
      "first_browser              211041 non-null object\n",
      "country_destination        211041 non-null object\n",
      "secs_elapsed               211041 non-null float64\n",
      "lang_dist                  211041 non-null float64\n",
      "dtypes: datetime64[ns](2), float64(3), int64(2), object(11)\n",
      "memory usage: 30.6+ MB\n"
     ]
    }
   ],
   "source": [
    "train.info()"
   ]
  },
  {
   "cell_type": "code",
   "execution_count": 255,
   "metadata": {},
   "outputs": [
    {
     "name": "stdout",
     "output_type": "stream",
     "text": [
      "<class 'pandas.core.frame.DataFrame'>\n",
      "Int64Index: 62096 entries, 0 to 62095\n",
      "Data columns (total 17 columns):\n",
      "id                         62096 non-null object\n",
      "date_account_created       62096 non-null datetime64[ns]\n",
      "timestamp_first_active     62096 non-null datetime64[ns]\n",
      "date_first_booking         62096 non-null int64\n",
      "gender                     62096 non-null object\n",
      "age                        62096 non-null float64\n",
      "signup_method              62096 non-null object\n",
      "signup_flow                62096 non-null int64\n",
      "language                   62096 non-null object\n",
      "affiliate_channel          62096 non-null object\n",
      "affiliate_provider         62096 non-null object\n",
      "first_affiliate_tracked    62096 non-null object\n",
      "signup_app                 62096 non-null object\n",
      "first_device_type          62096 non-null object\n",
      "first_browser              62096 non-null object\n",
      "secs_elapsed               62096 non-null float64\n",
      "lang_dist                  62096 non-null float64\n",
      "dtypes: datetime64[ns](2), float64(3), int64(2), object(10)\n",
      "memory usage: 8.5+ MB\n"
     ]
    }
   ],
   "source": [
    "test.info()"
   ]
  },
  {
   "cell_type": "code",
   "execution_count": 256,
   "metadata": {},
   "outputs": [
    {
     "data": {
      "text/plain": [
       "Index(['id', 'date_account_created', 'timestamp_first_active',\n",
       "       'date_first_booking', 'gender', 'age', 'signup_method', 'signup_flow',\n",
       "       'language', 'affiliate_channel', 'affiliate_provider',\n",
       "       'first_affiliate_tracked', 'signup_app', 'first_device_type',\n",
       "       'first_browser', 'country_destination', 'secs_elapsed', 'lang_dist'],\n",
       "      dtype='object')"
      ]
     },
     "execution_count": 256,
     "metadata": {},
     "output_type": "execute_result"
    }
   ],
   "source": [
    "train.columns"
   ]
  },
  {
   "cell_type": "code",
   "execution_count": 262,
   "metadata": {},
   "outputs": [],
   "source": [
    "temp_df = pd.concat([train, test], ignore_index=True)\n",
    "\n",
    "to_dummy = ['gender', 'signup_method', 'signup_flow', 'language', 'affiliate_channel', 'affiliate_provider',\n",
    "            'first_affiliate_tracked', 'signup_app', 'first_device_type',\n",
    "            'first_browser']\n",
    "\n",
    "temp_df = pd.get_dummies(temp_df, columns=to_dummy, drop_first=True)\n",
    "\n",
    "train = temp_df.loc[temp_df['country_destination'].notna()]\n",
    "test = temp_df.loc[temp_df['country_destination'].isna()]"
   ]
  },
  {
   "cell_type": "code",
   "execution_count": 266,
   "metadata": {},
   "outputs": [
    {
     "data": {
      "text/html": [
       "<div>\n",
       "<style scoped>\n",
       "    .dataframe tbody tr th:only-of-type {\n",
       "        vertical-align: middle;\n",
       "    }\n",
       "\n",
       "    .dataframe tbody tr th {\n",
       "        vertical-align: top;\n",
       "    }\n",
       "\n",
       "    .dataframe thead th {\n",
       "        text-align: right;\n",
       "    }\n",
       "</style>\n",
       "<table border=\"1\" class=\"dataframe\">\n",
       "  <thead>\n",
       "    <tr style=\"text-align: right;\">\n",
       "      <th></th>\n",
       "      <th>age</th>\n",
       "      <th>country_destination</th>\n",
       "      <th>date_account_created</th>\n",
       "      <th>date_first_booking</th>\n",
       "      <th>id</th>\n",
       "      <th>lang_dist</th>\n",
       "      <th>secs_elapsed</th>\n",
       "      <th>timestamp_first_active</th>\n",
       "      <th>gender_FEMALE</th>\n",
       "      <th>gender_MALE</th>\n",
       "      <th>...</th>\n",
       "      <th>first_browser_Silk</th>\n",
       "      <th>first_browser_SiteKiosk</th>\n",
       "      <th>first_browser_SlimBrowser</th>\n",
       "      <th>first_browser_Sogou Explorer</th>\n",
       "      <th>first_browser_Stainless</th>\n",
       "      <th>first_browser_TenFourFox</th>\n",
       "      <th>first_browser_TheWorld Browser</th>\n",
       "      <th>first_browser_UC Browser</th>\n",
       "      <th>first_browser_Yandex.Browser</th>\n",
       "      <th>first_browser_wOSBrowser</th>\n",
       "    </tr>\n",
       "  </thead>\n",
       "  <tbody>\n",
       "    <tr>\n",
       "      <th>0</th>\n",
       "      <td>36.583307</td>\n",
       "      <td>NDF</td>\n",
       "      <td>2010-06-28</td>\n",
       "      <td>0</td>\n",
       "      <td>gxn3p5htnn</td>\n",
       "      <td>0.0</td>\n",
       "      <td>1.512012e+06</td>\n",
       "      <td>2009-03-19 04:32:55</td>\n",
       "      <td>0</td>\n",
       "      <td>0</td>\n",
       "      <td>...</td>\n",
       "      <td>0</td>\n",
       "      <td>0</td>\n",
       "      <td>0</td>\n",
       "      <td>0</td>\n",
       "      <td>0</td>\n",
       "      <td>0</td>\n",
       "      <td>0</td>\n",
       "      <td>0</td>\n",
       "      <td>0</td>\n",
       "      <td>0</td>\n",
       "    </tr>\n",
       "    <tr>\n",
       "      <th>1</th>\n",
       "      <td>38.000000</td>\n",
       "      <td>NDF</td>\n",
       "      <td>2011-05-25</td>\n",
       "      <td>0</td>\n",
       "      <td>820tgsjxq7</td>\n",
       "      <td>0.0</td>\n",
       "      <td>1.512012e+06</td>\n",
       "      <td>2009-05-23 17:48:09</td>\n",
       "      <td>0</td>\n",
       "      <td>1</td>\n",
       "      <td>...</td>\n",
       "      <td>0</td>\n",
       "      <td>0</td>\n",
       "      <td>0</td>\n",
       "      <td>0</td>\n",
       "      <td>0</td>\n",
       "      <td>0</td>\n",
       "      <td>0</td>\n",
       "      <td>0</td>\n",
       "      <td>0</td>\n",
       "      <td>0</td>\n",
       "    </tr>\n",
       "    <tr>\n",
       "      <th>2</th>\n",
       "      <td>42.000000</td>\n",
       "      <td>other</td>\n",
       "      <td>2011-12-05</td>\n",
       "      <td>1</td>\n",
       "      <td>bjjt8pjhuk</td>\n",
       "      <td>0.0</td>\n",
       "      <td>1.512012e+06</td>\n",
       "      <td>2009-10-31 06:01:29</td>\n",
       "      <td>1</td>\n",
       "      <td>0</td>\n",
       "      <td>...</td>\n",
       "      <td>0</td>\n",
       "      <td>0</td>\n",
       "      <td>0</td>\n",
       "      <td>0</td>\n",
       "      <td>0</td>\n",
       "      <td>0</td>\n",
       "      <td>0</td>\n",
       "      <td>0</td>\n",
       "      <td>0</td>\n",
       "      <td>0</td>\n",
       "    </tr>\n",
       "    <tr>\n",
       "      <th>3</th>\n",
       "      <td>36.583307</td>\n",
       "      <td>US</td>\n",
       "      <td>2010-01-01</td>\n",
       "      <td>1</td>\n",
       "      <td>osr2jwljor</td>\n",
       "      <td>0.0</td>\n",
       "      <td>1.512012e+06</td>\n",
       "      <td>2010-01-01 21:56:19</td>\n",
       "      <td>0</td>\n",
       "      <td>0</td>\n",
       "      <td>...</td>\n",
       "      <td>0</td>\n",
       "      <td>0</td>\n",
       "      <td>0</td>\n",
       "      <td>0</td>\n",
       "      <td>0</td>\n",
       "      <td>0</td>\n",
       "      <td>0</td>\n",
       "      <td>0</td>\n",
       "      <td>0</td>\n",
       "      <td>0</td>\n",
       "    </tr>\n",
       "    <tr>\n",
       "      <th>4</th>\n",
       "      <td>46.000000</td>\n",
       "      <td>US</td>\n",
       "      <td>2010-01-02</td>\n",
       "      <td>1</td>\n",
       "      <td>lsw9q7uk0j</td>\n",
       "      <td>0.0</td>\n",
       "      <td>1.512012e+06</td>\n",
       "      <td>2010-01-02 01:25:58</td>\n",
       "      <td>1</td>\n",
       "      <td>0</td>\n",
       "      <td>...</td>\n",
       "      <td>0</td>\n",
       "      <td>0</td>\n",
       "      <td>0</td>\n",
       "      <td>0</td>\n",
       "      <td>0</td>\n",
       "      <td>0</td>\n",
       "      <td>0</td>\n",
       "      <td>0</td>\n",
       "      <td>0</td>\n",
       "      <td>0</td>\n",
       "    </tr>\n",
       "  </tbody>\n",
       "</table>\n",
       "<p>5 rows × 152 columns</p>\n",
       "</div>"
      ],
      "text/plain": [
       "         age country_destination date_account_created  date_first_booking  \\\n",
       "0  36.583307                 NDF           2010-06-28                   0   \n",
       "1  38.000000                 NDF           2011-05-25                   0   \n",
       "2  42.000000               other           2011-12-05                   1   \n",
       "3  36.583307                  US           2010-01-01                   1   \n",
       "4  46.000000                  US           2010-01-02                   1   \n",
       "\n",
       "           id  lang_dist  secs_elapsed timestamp_first_active  gender_FEMALE  \\\n",
       "0  gxn3p5htnn        0.0  1.512012e+06    2009-03-19 04:32:55              0   \n",
       "1  820tgsjxq7        0.0  1.512012e+06    2009-05-23 17:48:09              0   \n",
       "2  bjjt8pjhuk        0.0  1.512012e+06    2009-10-31 06:01:29              1   \n",
       "3  osr2jwljor        0.0  1.512012e+06    2010-01-01 21:56:19              0   \n",
       "4  lsw9q7uk0j        0.0  1.512012e+06    2010-01-02 01:25:58              1   \n",
       "\n",
       "   gender_MALE  ...  first_browser_Silk  first_browser_SiteKiosk  \\\n",
       "0            0  ...                   0                        0   \n",
       "1            1  ...                   0                        0   \n",
       "2            0  ...                   0                        0   \n",
       "3            0  ...                   0                        0   \n",
       "4            0  ...                   0                        0   \n",
       "\n",
       "   first_browser_SlimBrowser  first_browser_Sogou Explorer  \\\n",
       "0                          0                             0   \n",
       "1                          0                             0   \n",
       "2                          0                             0   \n",
       "3                          0                             0   \n",
       "4                          0                             0   \n",
       "\n",
       "   first_browser_Stainless  first_browser_TenFourFox  \\\n",
       "0                        0                         0   \n",
       "1                        0                         0   \n",
       "2                        0                         0   \n",
       "3                        0                         0   \n",
       "4                        0                         0   \n",
       "\n",
       "   first_browser_TheWorld Browser  first_browser_UC Browser  \\\n",
       "0                               0                         0   \n",
       "1                               0                         0   \n",
       "2                               0                         0   \n",
       "3                               0                         0   \n",
       "4                               0                         0   \n",
       "\n",
       "   first_browser_Yandex.Browser  first_browser_wOSBrowser  \n",
       "0                             0                         0  \n",
       "1                             0                         0  \n",
       "2                             0                         0  \n",
       "3                             0                         0  \n",
       "4                             0                         0  \n",
       "\n",
       "[5 rows x 152 columns]"
      ]
     },
     "execution_count": 266,
     "metadata": {},
     "output_type": "execute_result"
    }
   ],
   "source": [
    "train.head()"
   ]
  },
  {
   "cell_type": "code",
   "execution_count": 267,
   "metadata": {},
   "outputs": [],
   "source": [
    "train.to_csv('./train_01.csv', index=False)\n",
    "test.to_csv('./test_01.csv', index=False)"
   ]
  },
  {
   "cell_type": "code",
   "execution_count": 270,
   "metadata": {},
   "outputs": [
    {
     "data": {
      "text/plain": [
       "(211041, 152)"
      ]
     },
     "execution_count": 270,
     "metadata": {},
     "output_type": "execute_result"
    }
   ],
   "source": [
    "train.shape"
   ]
  },
  {
   "cell_type": "code",
   "execution_count": 271,
   "metadata": {},
   "outputs": [
    {
     "data": {
      "text/plain": [
       "(62096, 152)"
      ]
     },
     "execution_count": 271,
     "metadata": {},
     "output_type": "execute_result"
    }
   ],
   "source": [
    "test.shape"
   ]
  }
 ],
 "metadata": {
  "kernelspec": {
   "display_name": "Python 3",
   "language": "python",
   "name": "python3"
  },
  "language_info": {
   "codemirror_mode": {
    "name": "ipython",
    "version": 3
   },
   "file_extension": ".py",
   "mimetype": "text/x-python",
   "name": "python",
   "nbconvert_exporter": "python",
   "pygments_lexer": "ipython3",
   "version": "3.7.6"
  }
 },
 "nbformat": 4,
 "nbformat_minor": 4
}
