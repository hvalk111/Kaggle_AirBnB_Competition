{
 "cells": [
  {
   "cell_type": "markdown",
   "metadata": {},
   "source": [
    "# Modeling"
   ]
  },
  {
   "cell_type": "code",
   "execution_count": 35,
   "metadata": {},
   "outputs": [],
   "source": [
    "import pandas as pd\n",
    "import numpy as np\n",
    "import matplotlib.pyplot as plt\n",
    "from sklearn.model_selection import cross_val_score\n",
    "from sklearn.preprocessing import StandardScaler\n",
    "from sklearn.linear_model import RidgeCV, LassoCV, LogisticRegression\n",
    "import datetime as dt\n",
    "from sklearn.model_selection import train_test_split, GridSearchCV\n",
    "from sklearn.svm import LinearSVC"
   ]
  },
  {
   "cell_type": "code",
   "execution_count": 19,
   "metadata": {},
   "outputs": [
    {
     "name": "stdout",
     "output_type": "stream",
     "text": [
      "(211041, 152)\n",
      "(62096, 152)\n"
     ]
    }
   ],
   "source": [
    "train = pd.read_csv('./train_01.csv')\n",
    "test = pd.read_csv('./test_01.csv')\n",
    "\n",
    "print(train.shape)\n",
    "print(test.shape)"
   ]
  },
  {
   "cell_type": "code",
   "execution_count": 20,
   "metadata": {},
   "outputs": [],
   "source": [
    "train['date_account_created'] = pd.to_datetime(train['date_account_created'])\n",
    "test['date_account_created'] = pd.to_datetime(test['date_account_created'])\n",
    "\n",
    "train['timestamp_first_active'] = pd.to_datetime(train['timestamp_first_active'])\n",
    "test['timestamp_first_active'] = pd.to_datetime(test['timestamp_first_active'])\n"
   ]
  },
  {
   "cell_type": "code",
   "execution_count": 21,
   "metadata": {},
   "outputs": [],
   "source": [
    "train['date_account_created'] = train['date_account_created'].map(dt.datetime.toordinal)\n",
    "test['date_account_created'] = test['date_account_created'].map(dt.datetime.toordinal)\n",
    "\n",
    "train['timestamp_first_active'] = train['timestamp_first_active'].map(dt.datetime.toordinal)\n",
    "test['timestamp_first_active'] = test['timestamp_first_active'].map(dt.datetime.toordinal)\n"
   ]
  },
  {
   "cell_type": "code",
   "execution_count": 24,
   "metadata": {},
   "outputs": [],
   "source": [
    "# include all features other than target var and features that could not possible create a better model (PID, Id)\n",
    "features = train.drop(columns=['id', 'country_destination']).columns\n",
    "\n",
    "X = train[features]\n",
    "\n",
    "y = train['country_destination']\n",
    "\n",
    "\n",
    "X_train, X_test, y_train, y_test = train_test_split(X,\n",
    "                                                    y,\n",
    "                                                    random_state=42)"
   ]
  },
  {
   "cell_type": "code",
   "execution_count": 32,
   "metadata": {},
   "outputs": [],
   "source": [
    "ss = StandardScaler()\n",
    "ss.fit(X_train)\n",
    "Z_train = ss.transform(X_train)\n",
    "Z_test = ss.transform(X_test)"
   ]
  },
  {
   "cell_type": "code",
   "execution_count": 43,
   "metadata": {},
   "outputs": [
    {
     "name": "stdout",
     "output_type": "stream",
     "text": [
      "Fitting 3 folds for each of 2 candidates, totalling 6 fits\n"
     ]
    },
    {
     "name": "stderr",
     "output_type": "stream",
     "text": [
      "[Parallel(n_jobs=-1)]: Using backend LokyBackend with 16 concurrent workers.\n",
      "[Parallel(n_jobs=-1)]: Done   2 out of   6 | elapsed: 14.5min remaining: 28.9min\n",
      "[Parallel(n_jobs=-1)]: Done   6 out of   6 | elapsed: 15.6min finished\n",
      "/Users/henryvalk/opt/anaconda3/lib/python3.7/site-packages/sklearn/svm/_base.py:947: ConvergenceWarning: Liblinear failed to converge, increase the number of iterations.\n",
      "  \"the number of iterations.\", ConvergenceWarning)\n"
     ]
    },
    {
     "data": {
      "text/plain": [
       "0.8757771038665657"
      ]
     },
     "execution_count": 43,
     "metadata": {},
     "output_type": "execute_result"
    }
   ],
   "source": [
    "# C values to GridSearch over\n",
    "# DSI-US-12/6.05-lesson-support-vector-machines/blob/master/solution-code/solution-code.ipynb\n",
    "pgrid = {\"C\": [0.01, 0.1]}\n",
    "\n",
    "svc = LinearSVC()\n",
    "gcv = GridSearchCV(svc, pgrid, cv=3, n_jobs=-1, verbose=3)\n",
    "gcv.fit(Z_train, y_train);\n",
    "\n",
    "gcv.best_score_"
   ]
  },
  {
   "cell_type": "code",
   "execution_count": 34,
   "metadata": {},
   "outputs": [
    {
     "name": "stdout",
     "output_type": "stream",
     "text": [
      "0.8758718726307809\n",
      "0.8774284035556567\n"
     ]
    }
   ],
   "source": [
    "logreg = LogisticRegression(max_iter=1_000)\n",
    "\n",
    "model = logreg.fit(Z_train, y_train)\n",
    "\n",
    "print(model.score(Z_train, y_train))\n",
    "print(model.score(Z_test, y_test))"
   ]
  },
  {
   "cell_type": "code",
   "execution_count": 35,
   "metadata": {},
   "outputs": [
    {
     "data": {
      "text/plain": [
       "0      147685.413289\n",
       "1      157253.396984\n",
       "2      217337.353079\n",
       "3      100089.546202\n",
       "4      172686.922585\n",
       "           ...      \n",
       "873    187366.221970\n",
       "874    219049.335917\n",
       "875    126001.656625\n",
       "876    117441.985082\n",
       "877    128620.237424\n",
       "Name: SalePrice, Length: 878, dtype: float64"
      ]
     },
     "execution_count": 35,
     "metadata": {},
     "output_type": "execute_result"
    }
   ],
   "source": [
    "# select corresponding features from test set, standardize values accoring to the fit on the train set\n",
    "Z_test = ss.transform(test[features])\n",
    "# predict sales prices, convert values to original scale from log scale\n",
    "test['SalePrice'] = np.exp(model.predict(Z_test))\n",
    "# eyeball predictions\n",
    "test['SalePrice']"
   ]
  },
  {
   "cell_type": "code",
   "execution_count": 36,
   "metadata": {},
   "outputs": [],
   "source": [
    "# save submission csv\n",
    "test[['Id', 'SalePrice']].to_csv(f'./output/sub48', index=False)\n"
   ]
  }
 ],
 "metadata": {
  "kernelspec": {
   "display_name": "Python 3",
   "language": "python",
   "name": "python3"
  },
  "language_info": {
   "codemirror_mode": {
    "name": "ipython",
    "version": 3
   },
   "file_extension": ".py",
   "mimetype": "text/x-python",
   "name": "python",
   "nbconvert_exporter": "python",
   "pygments_lexer": "ipython3",
   "version": "3.7.6"
  }
 },
 "nbformat": 4,
 "nbformat_minor": 4
}
